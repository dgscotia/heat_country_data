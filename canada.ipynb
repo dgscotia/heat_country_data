{
 "cells": [
  {
   "cell_type": "code",
   "execution_count": null,
   "metadata": {},
   "outputs": [],
   "source": [
    "import pandas as pd"
   ]
  },
  {
   "cell_type": "code",
   "execution_count": null,
   "metadata": {},
   "outputs": [],
   "source": [
    "fuel_res = pd.read_excel(\"raw_data/Canada/res_ca_e_1.xls\").dropna(how=\"all\").drop([3,5,6], axis=0)\n",
    "fuel_res.drop(fuel_res.columns[0], axis=1, inplace=True)\n",
    "fuel_res.columns = fuel_res.iloc[0]\n",
    "#fuel_res.columns = pd.to_datetime(fuel_res.iloc[0])\n",
    "# still need to convert years to datetime\n",
    "fuel_res"
   ]
  },
  {
   "cell_type": "code",
   "execution_count": null,
   "metadata": {},
   "outputs": [],
   "source": []
  }
 ],
 "metadata": {
  "interpreter": {
   "hash": "6a716c2c4151a73aca89c61fc1bdaff353361ae348658ebcc2cbeba07af739e8"
  },
  "kernelspec": {
   "display_name": "Python 3.10.0 64-bit",
   "language": "python",
   "name": "python3"
  },
  "language_info": {
   "name": "python",
   "version": "3.10.0"
  },
  "orig_nbformat": 4
 },
 "nbformat": 4,
 "nbformat_minor": 2
}
