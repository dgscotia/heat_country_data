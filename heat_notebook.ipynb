{
 "cells": [
  {
   "cell_type": "code",
   "execution_count": null,
   "metadata": {},
   "outputs": [],
   "source": [
    "import pandas as pd\n",
    "import seaborn as sns\n",
    "import matplotlib.pyplot as plt\n",
    "import matplotlib\n",
    "import numpy as np"
   ]
  },
  {
   "cell_type": "code",
   "execution_count": null,
   "metadata": {},
   "outputs": [],
   "source": [
    "df_1 = pd.read_csv(\"..\\..\\!Processed\\heat_data_fig_1_python.csv\").set_index(\"Country\")\n",
    "df_2 = pd.read_csv(\"..\\..\\!Processed\\heat_data_fig_2_python.csv\").set_index(\"Country\")\n",
    "df_co2 = pd.read_csv(\"..\\..\\!Emissions\\emissions_python.csv\").set_index(\"Country\").dropna(axis=0, how='all')\n",
    "df_co2\n",
    "df_2"
   ]
  },
  {
   "cell_type": "code",
   "execution_count": null,
   "metadata": {},
   "outputs": [],
   "source": [
    "font= 'Microsoft Yi Baiti'\n",
    "\n",
    "text_props = {'fontsize': 25, 'fontname':font}\n",
    "title_props =  {'fontsize': 35, 'fontname':font, 'verticalalignment':'baseline'} \n",
    "legend_pie_props = {'size':22, 'family':font}\n",
    "legend_bar_props = {'size':25, 'family':font}\n",
    "matplotlib.rcParams['font.family'] = font\n",
    "matplotlib.rcParams[\"figure.facecolor\"] = \"w\"\n",
    "alpha_set = 0.8\n",
    "face_color = \"white\"\n",
    "pie_size = (14,14)\n",
    "bar_size = (24,12)\n",
    "bar_font = 30\n",
    "text_offset = 7.5\n",
    "\n",
    "RE_explode = [0,0,0,0,0.1,0.1,0.1,0.1]\n",
    "\n",
    "FILEPATH = \"Exported_new\""
   ]
  },
  {
   "cell_type": "code",
   "execution_count": null,
   "metadata": {},
   "outputs": [],
   "source": [
    "\n",
    "gas = '#8c564b'\n",
    "oil = '#7f7f7f'\n",
    "other_fossils = '#c7c7c7'\n",
    "heat_pumps = '#c5b0d5'\n",
    "direct_re = '#2ca02c'\n",
    "district_heat = '#d62728'\n",
    "electricity = '#1f77b4'\n",
    "non_re_elec = '#ffbb78'\n",
    "re_elec = '#98df8a'\n",
    "re_DHC = '#d62728'\n",
    "ambient = '#17becf'\n",
    "\n",
    "\n",
    "colors_1 = [gas, oil, other_fossils, heat_pumps, direct_re, district_heat, electricity]\n",
    "colors_2 = [gas, oil, other_fossils, non_re_elec, re_elec, direct_re, re_DHC, ambient]\n",
    "colors_e = ['#ff7f0e', '#7f7f7f', '#9467bd']\n",
    "\n",
    "# old HEX for re_DHC --> '#9edae5'"
   ]
  },
  {
   "cell_type": "code",
   "execution_count": null,
   "metadata": {},
   "outputs": [],
   "source": [
    "\n",
    "colors = sns.color_palette(\"tab20\")\n",
    "palette = sns.color_palette(\"tab20\", 20).as_hex()\n",
    "print(palette)\n",
    "palette"
   ]
  },
  {
   "cell_type": "code",
   "execution_count": null,
   "metadata": {},
   "outputs": [],
   "source": [
    "cmap = matplotlib.cm.get_cmap('tab20')\n",
    "for i in range(cmap.N):\n",
    "    rgba = cmap(i)\n",
    "    print(f\"Hex: {matplotlib.colors.rgb2hex(rgba)}\")"
   ]
  },
  {
   "cell_type": "markdown",
   "metadata": {},
   "source": [
    "### COUNTRY PIE CHARTS"
   ]
  },
  {
   "cell_type": "code",
   "execution_count": null,
   "metadata": {},
   "outputs": [],
   "source": [
    "labels_1 = df_1.columns\n",
    "labels_2 = df_2.columns\n",
    "plot_1 = [df_1, colors_1, labels_1, \"What is used to heat in \", \"fig_1\"]\n",
    "plot_2 = [df_2, colors_2, labels_2, \"How clean is the heat in \", \"fig_2\"]"
   ]
  },
  {
   "cell_type": "code",
   "execution_count": null,
   "metadata": {},
   "outputs": [],
   "source": [
    "df_co2"
   ]
  },
  {
   "cell_type": "code",
   "execution_count": null,
   "metadata": {},
   "outputs": [],
   "source": [
    "def plot_country(country, df, colors, labels, title, name):\n",
    "    fig = plt.figure(figsize = pie_size)\n",
    "    plt.pie(df.loc[country], colors=colors, startangle=90, autopct=lambda p: '{:.0f}%'.format(round(p)) if p > 1 else  '', textprops=text_props, wedgeprops={'alpha':alpha_set, \"edgecolor\":\"black\"})\n",
    "    plt.title(title+f\"{country}?\", fontdict=title_props, y=0.95)\n",
    "    plt.legend(labels=labels, prop=legend_pie_props, loc = 8, ncol=3, edgecolor='white', framealpha=0)\n",
    "\n",
    "    centre_circle = plt.Circle((0,0),0.70,fc=face_color,edgecolor='black')\n",
    "    ax = fig.gca()\n",
    "    ax.add_artist(centre_circle)\n",
    "\n",
    "    plt.tight_layout()\n",
    "    plt.savefig(f\"{FILEPATH}/{country}_{name}\")\n",
    "    plt.show()"
   ]
  },
  {
   "cell_type": "code",
   "execution_count": null,
   "metadata": {},
   "outputs": [],
   "source": [
    "\"\"\" TESTING THE PLOTS \"\"\"\n",
    "\n",
    "#plot_country(\"United Kingdom\", *plot_1)\n",
    "#plot_country(\"United Kingdom\", *plot_2)"
   ]
  },
  {
   "cell_type": "code",
   "execution_count": null,
   "metadata": {},
   "outputs": [],
   "source": [
    "def plot_all_figs():\n",
    "    for country in df_1.index:\n",
    "        plot_country(country, *plot_1)\n",
    "\n",
    "    for country in df_2.index:\n",
    "        plot_country(country, *plot_2)"
   ]
  },
  {
   "cell_type": "code",
   "execution_count": null,
   "metadata": {},
   "outputs": [],
   "source": [
    "\"\"\" SAVING THE FIGURES \"\"\"\n",
    "plot_country('Canada', *plot_1)\n",
    "\n",
    "# plot_all_figs()"
   ]
  },
  {
   "cell_type": "markdown",
   "metadata": {},
   "source": [
    "### EMISSIONS"
   ]
  },
  {
   "cell_type": "code",
   "execution_count": null,
   "metadata": {},
   "outputs": [],
   "source": [
    "labels = df_co2.columns[:2][::-1]\n",
    "labels_test = df_co2.columns\n",
    "labels_test"
   ]
  },
  {
   "cell_type": "code",
   "execution_count": null,
   "metadata": {},
   "outputs": [],
   "source": [
    "def check_note(country):\n",
    "    note_text = df_co2.loc[country][\"Note\"]\n",
    "    if not pd.isna(note_text):\n",
    "        plt.text(0.03, 0, f'Note: {note_text}', fontsize=15, fontfamily=font, color='black', wrap=True, rotation=90)\n",
    "\n",
    "def plot_emissions(country):\n",
    "    row = df_co2.loc[country]\n",
    "    pd.DataFrame(row[0:2]).T.plot(kind=\"bar\", stacked=True, figsize=(10,10), color=colors_e, width=0.05, legend=False, alpha=0.7, edgecolor='black')\n",
    "    plt.axis('off')\n",
    "    plt.legend(handles = reversed(plt.legend().legendHandles), labels = reversed(labels_test[0:2]), bbox_to_anchor=(0.73, 0.95), prop=legend_bar_props, loc = 9, ncol=1, framealpha=0)\n",
    "    plt.title(f\"Emissions in {country}\", fontdict=title_props, x=0.7, y=1)\n",
    "    share = int(round(row[\"Heat in Buildings\"]*100,0))\n",
    "    plt.text(0.03, share/100/2, f'{share}%', fontsize=35, fontfamily=font, color='black')\n",
    "    #check_note(country)\n",
    "    plt.tight_layout()\n",
    "    plt.savefig(f\"{FILEPATH}/{country}_emissions\")\n",
    "    plt.show()"
   ]
  },
  {
   "cell_type": "code",
   "execution_count": null,
   "metadata": {},
   "outputs": [],
   "source": [
    "#plot_emissions('Denmark')\n",
    "\n",
    "for country in df_co2.index:\n",
    "   plot_emissions(country)"
   ]
  },
  {
   "cell_type": "markdown",
   "metadata": {},
   "source": [
    "### STACKED BAR CHART"
   ]
  },
  {
   "cell_type": "code",
   "execution_count": 13,
   "metadata": {},
   "outputs": [
    {
     "data": {
      "text/html": [
       "<div>\n",
       "<style scoped>\n",
       "    .dataframe tbody tr th:only-of-type {\n",
       "        vertical-align: middle;\n",
       "    }\n",
       "\n",
       "    .dataframe tbody tr th {\n",
       "        vertical-align: top;\n",
       "    }\n",
       "\n",
       "    .dataframe thead th {\n",
       "        text-align: right;\n",
       "    }\n",
       "</style>\n",
       "<table border=\"1\" class=\"dataframe\">\n",
       "  <thead>\n",
       "    <tr style=\"text-align: right;\">\n",
       "      <th></th>\n",
       "      <th>Fossil gas</th>\n",
       "      <th>Oil</th>\n",
       "      <th>Other fossil fuels</th>\n",
       "      <th>Non-renewable electricity</th>\n",
       "      <th>Renewable electricity</th>\n",
       "      <th>Direct renewables</th>\n",
       "      <th>Renewable district heat</th>\n",
       "      <th>Ambient heat</th>\n",
       "    </tr>\n",
       "    <tr>\n",
       "      <th>Country</th>\n",
       "      <th></th>\n",
       "      <th></th>\n",
       "      <th></th>\n",
       "      <th></th>\n",
       "      <th></th>\n",
       "      <th></th>\n",
       "      <th></th>\n",
       "      <th></th>\n",
       "    </tr>\n",
       "  </thead>\n",
       "  <tbody>\n",
       "    <tr>\n",
       "      <th>Denmark</th>\n",
       "      <td>0.160494</td>\n",
       "      <td>0.043210</td>\n",
       "      <td>0.185185</td>\n",
       "      <td>0.006173</td>\n",
       "      <td>0.030864</td>\n",
       "      <td>0.265432</td>\n",
       "      <td>0.246914</td>\n",
       "      <td>0.061728</td>\n",
       "    </tr>\n",
       "    <tr>\n",
       "      <th>France</th>\n",
       "      <td>0.429382</td>\n",
       "      <td>0.127623</td>\n",
       "      <td>0.024957</td>\n",
       "      <td>0.136132</td>\n",
       "      <td>0.035167</td>\n",
       "      <td>0.157119</td>\n",
       "      <td>0.024390</td>\n",
       "      <td>0.065230</td>\n",
       "    </tr>\n",
       "    <tr>\n",
       "      <th>Germany</th>\n",
       "      <td>0.439763</td>\n",
       "      <td>0.217270</td>\n",
       "      <td>0.064067</td>\n",
       "      <td>0.056407</td>\n",
       "      <td>0.046657</td>\n",
       "      <td>0.143106</td>\n",
       "      <td>0.012883</td>\n",
       "      <td>0.019847</td>\n",
       "    </tr>\n",
       "    <tr>\n",
       "      <th>Canada</th>\n",
       "      <td>0.659373</td>\n",
       "      <td>0.040776</td>\n",
       "      <td>0.026355</td>\n",
       "      <td>0.063650</td>\n",
       "      <td>0.125311</td>\n",
       "      <td>0.084535</td>\n",
       "      <td>0.000000</td>\n",
       "      <td>0.000000</td>\n",
       "    </tr>\n",
       "    <tr>\n",
       "      <th>Scotland</th>\n",
       "      <td>0.748201</td>\n",
       "      <td>0.086331</td>\n",
       "      <td>0.021583</td>\n",
       "      <td>0.000000</td>\n",
       "      <td>0.100719</td>\n",
       "      <td>0.043165</td>\n",
       "      <td>0.000000</td>\n",
       "      <td>0.000000</td>\n",
       "    </tr>\n",
       "    <tr>\n",
       "      <th>United States</th>\n",
       "      <td>0.615755</td>\n",
       "      <td>0.125030</td>\n",
       "      <td>0.000000</td>\n",
       "      <td>0.128523</td>\n",
       "      <td>0.031197</td>\n",
       "      <td>0.099494</td>\n",
       "      <td>0.000000</td>\n",
       "      <td>0.000000</td>\n",
       "    </tr>\n",
       "    <tr>\n",
       "      <th>United Kingdom</th>\n",
       "      <td>0.697627</td>\n",
       "      <td>0.102004</td>\n",
       "      <td>0.021016</td>\n",
       "      <td>0.073300</td>\n",
       "      <td>0.055359</td>\n",
       "      <td>0.049208</td>\n",
       "      <td>0.001486</td>\n",
       "      <td>0.000000</td>\n",
       "    </tr>\n",
       "    <tr>\n",
       "      <th>Chile</th>\n",
       "      <td>0.523810</td>\n",
       "      <td>0.006803</td>\n",
       "      <td>0.000000</td>\n",
       "      <td>0.047619</td>\n",
       "      <td>0.040816</td>\n",
       "      <td>0.380952</td>\n",
       "      <td>0.000000</td>\n",
       "      <td>0.000000</td>\n",
       "    </tr>\n",
       "  </tbody>\n",
       "</table>\n",
       "</div>"
      ],
      "text/plain": [
       "                Fossil gas       Oil  Other fossil fuels  \\\n",
       "Country                                                    \n",
       "Denmark           0.160494  0.043210            0.185185   \n",
       "France            0.429382  0.127623            0.024957   \n",
       "Germany           0.439763  0.217270            0.064067   \n",
       "Canada            0.659373  0.040776            0.026355   \n",
       "Scotland          0.748201  0.086331            0.021583   \n",
       "United States     0.615755  0.125030            0.000000   \n",
       "United Kingdom    0.697627  0.102004            0.021016   \n",
       "Chile             0.523810  0.006803            0.000000   \n",
       "\n",
       "                Non-renewable electricity  Renewable electricity  \\\n",
       "Country                                                            \n",
       "Denmark                          0.006173               0.030864   \n",
       "France                           0.136132               0.035167   \n",
       "Germany                          0.056407               0.046657   \n",
       "Canada                           0.063650               0.125311   \n",
       "Scotland                         0.000000               0.100719   \n",
       "United States                    0.128523               0.031197   \n",
       "United Kingdom                   0.073300               0.055359   \n",
       "Chile                            0.047619               0.040816   \n",
       "\n",
       "                Direct renewables  Renewable district heat  Ambient heat  \n",
       "Country                                                                   \n",
       "Denmark                  0.265432                 0.246914      0.061728  \n",
       "France                   0.157119                 0.024390      0.065230  \n",
       "Germany                  0.143106                 0.012883      0.019847  \n",
       "Canada                   0.084535                 0.000000      0.000000  \n",
       "Scotland                 0.043165                 0.000000      0.000000  \n",
       "United States            0.099494                 0.000000      0.000000  \n",
       "United Kingdom           0.049208                 0.001486      0.000000  \n",
       "Chile                    0.380952                 0.000000      0.000000  "
      ]
     },
     "execution_count": 13,
     "metadata": {},
     "output_type": "execute_result"
    }
   ],
   "source": [
    "def normalize(df):\n",
    "    tot = df.sum(axis=1)\n",
    "    for col in df:\n",
    "        df[col] /= tot\n",
    "    return df\n",
    "\n",
    "df_1_share = normalize(df_1)\n",
    "df_2_share = normalize(df_2)\n",
    "\n",
    "df_2_share"
   ]
  },
  {
   "cell_type": "code",
   "execution_count": 14,
   "metadata": {},
   "outputs": [],
   "source": [
    "order_1 = [\"Scotland\", \"United Kingdom\", \"Canada\", \"United States\", \"Chile\", \"Germany\", \"France\", \"Denmark\"] # most gas\n",
    "order_2 = [\"Denmark\", \"Chile\", \"France\", \"Germany\", \"Canada\", \"Scotland\", \"United States\", \"United Kingdom\"] # highest RE share\n",
    "\n",
    "df_1_share = df_1_share.reindex(order_1)\n",
    "df_1_co2 = df_co2.reindex(order_1)\n",
    "labels_1 = df_1_share.columns\n",
    "\n",
    "df_2_share = df_2_share.reindex(order_2)\n",
    "df_2_co2 = df_co2.reindex(order_2)\n",
    "labels_2 = df_2_share.columns"
   ]
  },
  {
   "cell_type": "code",
   "execution_count": 15,
   "metadata": {},
   "outputs": [
    {
     "data": {
      "text/plain": [
       "[60, 42, 28, 22, 21, 14, 13, 11]"
      ]
     },
     "execution_count": 15,
     "metadata": {},
     "output_type": "execute_result"
    }
   ],
   "source": [
    "share_pct = round((df_2_share[\"Renewable electricity\"] + df_2_share[\"Direct renewables\"] + df_2_share[\"Renewable district heat\"] + df_2_share[\"Ambient heat\"])*100,0).apply(lambda x: int(x)).to_list()\n",
    "share_dec = (df_2_share[\"Renewable electricity\"] + df_2_share[\"Direct renewables\"] + df_2_share[\"Renewable district heat\"] + df_2_share[\"Ambient heat\"]).to_list()\n",
    "share_pct\n"
   ]
  },
  {
   "cell_type": "code",
   "execution_count": 16,
   "metadata": {},
   "outputs": [],
   "source": [
    "emissions_1_pct = round(df_1_co2[\"Heat in Buildings\"]*100,0).apply(lambda x: int(x)).to_list()\n",
    "emissions_2_pct = round(df_2_co2[\"Heat in Buildings\"]*100,0).apply(lambda x: int(x)).to_list()"
   ]
  },
  {
   "cell_type": "code",
   "execution_count": 17,
   "metadata": {},
   "outputs": [],
   "source": [
    "plot_share_1 = [df_1_share, emissions_1_pct, colors_1, labels_1, \"What fuels are used to heat?\", \"fig_1\"]\n",
    "plot_share_2 = [df_2_share, emissions_2_pct, colors_2, labels_2, \"How clean is the heat?\", \"fig_2\"]"
   ]
  },
  {
   "cell_type": "code",
   "execution_count": 18,
   "metadata": {},
   "outputs": [],
   "source": [
    "def plot_bars(df, emissions_pct, colors, labels, title, name):\n",
    "    df.plot(kind='bar', stacked=True, figsize=(bar_size), color=colors, width=0.3, zorder=0, alpha=alpha_set, edgecolor='black')\n",
    "    plt.text(text_offset, -0.15, 'Building heat share of emissions', fontsize=25, fontfamily=font, color='#8c564b')\n",
    "    start = -0.15\n",
    "    for e in emissions_pct:\n",
    "        plt.text(start, -0.15, f'{e}%', fontsize=25, fontfamily=font, color='#8c564b')\n",
    "        start += 1.01\n",
    "    if name == 'fig_2':\n",
    "        plt.text(text_offset, 1.02, 'Share of renewables', fontsize=25, fontfamily=font, color='#2ca02c')\n",
    "        start = -0.15\n",
    "        for share in share_pct:\n",
    "            plt.text(start, 1.02, f'{share}%', fontsize=25, fontfamily=font, color='#2ca02c')\n",
    "            start += 1.01\n",
    "        \n",
    "        \n",
    "        \n",
    "        dots = plt.scatter(x=df_2_share.index.to_list(), y=share_dec, zorder=10, s = 250, color='#2ca02c', edgecolors='black')\n",
    "\n",
    "\n",
    "\n",
    "    plt.legend(handles = reversed(plt.legend().legendHandles), labels = reversed(labels), bbox_to_anchor=(1.15, 0.5), prop=legend_bar_props, loc = 9, ncol=1, framealpha=0)\n",
    "    plt.grid(alpha=0.4, axis='y', zorder=5)\n",
    "    plt.title(title, fontdict=title_props, y =1.08)\n",
    "    plt.xlabel(xlabel='', fontdict=text_props, labelpad=20)\n",
    "    plt.xticks(rotation=20, fontfamily=font, fontsize=bar_font-2)\n",
    "    plt.ylabel('Share', fontfamily=font, fontsize=bar_font)\n",
    "    plt.yticks(fontfamily=font, fontsize=bar_font)\n",
    "    plt.margins(y=0)\n",
    "    plt.tight_layout()\n",
    "    plt.savefig(f\"{FILEPATH}/all_countries_{name}\")\n",
    "    plt.show()"
   ]
  },
  {
   "cell_type": "code",
   "execution_count": 19,
   "metadata": {},
   "outputs": [
    {
     "data": {
      "image/png": "[encoded data removed]",
      "text/plain": [
       "<Figure size 1728x864 with 1 Axes>"
      ]
     },
     "metadata": {},
     "output_type": "display_data"
    }
   ],
   "source": [
    "plot_bars(*plot_share_1)"
   ]
  },
  {
   "cell_type": "code",
   "execution_count": null,
   "metadata": {},
   "outputs": [],
   "source": [
    "plot_bars(*plot_share_2)"
   ]
  },
  {
   "cell_type": "code",
   "execution_count": null,
   "metadata": {},
   "outputs": [],
   "source": [
    "def plot_emissions(country, df, colors, labels, title, name):\n",
    "    fig = plt.figure(figsize = pie_size)\n",
    "    plt.pie(df.loc[country], colors=colors, startangle=90, autopct=lambda p: '{:.0f}%'.format(round(p)) if p > 0 else '', textprops=text_props, \n",
    "    wedgeprops={'alpha':alpha_set, \"edgecolor\":\"black\", 'antialiased':True})\n",
    "    plt.title(title+f\"{country}?\", fontdict=title_props, y=0.95)\n",
    "    plt.legend(labels=labels, prop=legend_pie_props, loc = 8, ncol=3, edgecolor='white', framealpha=0)\n",
    "    centre_circle = plt.Circle((0,0),0.70,fc=face_color)\n",
    "    ax = fig.gca()\n",
    "    ax.add_artist(centre_circle)\n",
    "\n",
    "\n",
    "    \"\"\" PLOTTING THE EMISSIONS \"\"\"\n",
    "    ax = fig.subplots()\n",
    "    ax.axis('off')\n",
    "    emissions = pd.DataFrame(df_co2.loc[country]).T\n",
    "    emissions.plot(kind='bar', stacked=True, ax=ax, color=colors_e, legend=False, alpha=0.7, edgecolor='black')\n",
    "    ax.set_position([0.5, 0.1, 0, 0.1])\n",
    "    #check_note(country)\n",
    "\n",
    "    plt.tight_layout()\n",
    "    #plt.savefig(f\"Exported/{country}_{name}\")\n",
    "    plt.show()\n",
    "\n",
    "#plot_country(\"Scotland\", *plot_1)"
   ]
  },
  {
   "cell_type": "code",
   "execution_count": null,
   "metadata": {},
   "outputs": [],
   "source": []
  }
 ],
 "metadata": {
  "interpreter": {
   "hash": "6a716c2c4151a73aca89c61fc1bdaff353361ae348658ebcc2cbeba07af739e8"
  },
  "kernelspec": {
   "display_name": "Python 3.10.0 64-bit",
   "language": "python",
   "name": "python3"
  },
  "language_info": {
   "codemirror_mode": {
    "name": "ipython",
    "version": 3
   },
   "file_extension": ".py",
   "mimetype": "text/x-python",
   "name": "python",
   "nbconvert_exporter": "python",
   "pygments_lexer": "ipython3",
   "version": "3.9.8"
  },
  "orig_nbformat": 4
 },
 "nbformat": 4,
 "nbformat_minor": 2
}
