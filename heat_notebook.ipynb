{
 "cells": [
  {
   "cell_type": "code",
   "execution_count": null,
   "metadata": {},
   "outputs": [],
   "source": [
    "import pandas as pd\n",
    "import seaborn as sns\n",
    "import matplotlib.pyplot as plt\n",
    "import matplotlib\n",
    "from matplotlib.widgets import TextBox\n",
    "import numpy as np"
   ]
  },
  {
   "cell_type": "code",
   "execution_count": null,
   "metadata": {},
   "outputs": [],
   "source": [
    "df_1 = pd.read_csv(\"heat_data_fig_1_python.csv\").set_index(\"Country\")\n",
    "df_2 = pd.read_csv(\"heat_data_fig_2_python.csv\").set_index(\"Country\")\n"
   ]
  },
  {
   "cell_type": "code",
   "execution_count": null,
   "metadata": {},
   "outputs": [],
   "source": [
    "font= 'Microsoft Yi Baiti'\n",
    "\n",
    "text_props = {'fontsize': 25, 'fontname':font}\n",
    "title_props =  {'fontsize': 40, 'fontname':font, 'verticalalignment':'baseline'} \n",
    "legend_props = {'size':18, 'family':font}\n",
    "matplotlib.rcParams['font.family'] = font\n",
    "\n",
    "face_color = \"white\"\n",
    "pie_size = (14,14)\n",
    "bar_size = (18,12)\n",
    "RE_explode = [0,0,0,0,0.1,0.1,0.1,0.1]"
   ]
  },
  {
   "cell_type": "code",
   "execution_count": null,
   "metadata": {},
   "outputs": [],
   "source": [
    "\n",
    "gas = '#8c564b'\n",
    "oil = '#7f7f7f'\n",
    "other_fossils = '#c7c7c7'\n",
    "heat_pumps = '#c5b0d5'\n",
    "direct_re = '#2ca02c'\n",
    "district_heat = '#d62728'\n",
    "electricity = '#1f77b4'\n",
    "non_re_elec = '#ffbb78'\n",
    "re_elec = '#98df8a'\n",
    "re_DHC = '#9edae5'\n",
    "ambient = '#17becf'\n",
    "\n",
    "\n",
    "colors_1 = [gas, oil, other_fossils, heat_pumps, direct_re, district_heat, electricity]\n",
    "colors_2 = [gas, oil, other_fossils, non_re_elec, re_elec, direct_re, re_DHC, ambient]\n",
    "\n",
    "c_Dict = {'Fossil gas':'tab:blue', 'Oil':'tab:orange', 'Other fossil fuels':'tab:green', \n",
    "'Heat pumps':'tab:red', 'Direct renewables':'tab:purple', 'District heat':'tab:brown', 'Electricity':'tab:pink'\n",
    "}\n"
   ]
  },
  {
   "cell_type": "code",
   "execution_count": null,
   "metadata": {},
   "outputs": [],
   "source": [
    "\n",
    "colors = sns.color_palette(\"tab20\")\n",
    "palette = sns.color_palette(\"tab20\", 20).as_hex()\n",
    "print(palette)\n",
    "palette"
   ]
  },
  {
   "cell_type": "code",
   "execution_count": null,
   "metadata": {},
   "outputs": [],
   "source": [
    "df_2"
   ]
  },
  {
   "cell_type": "code",
   "execution_count": null,
   "metadata": {},
   "outputs": [],
   "source": [
    "cmap = matplotlib.cm.get_cmap('tab20')\n",
    "for i in range(cmap.N):\n",
    "    rgba = cmap(i)\n",
    "    print(f\"Hex: {matplotlib.colors.rgb2hex(rgba)}\")"
   ]
  },
  {
   "cell_type": "code",
   "execution_count": null,
   "metadata": {},
   "outputs": [],
   "source": [
    "labels_1 = df_1.columns\n",
    "labels_2 = df_2.columns\n"
   ]
  },
  {
   "cell_type": "code",
   "execution_count": null,
   "metadata": {},
   "outputs": [],
   "source": [
    "df_1"
   ]
  },
  {
   "cell_type": "code",
   "execution_count": null,
   "metadata": {},
   "outputs": [],
   "source": [
    "def plot_fig_1(country):\n",
    "    fig = plt.figure(figsize = pie_size)\n",
    "    plt.pie(df_1.loc[country], colors=colors_1, startangle=90, autopct=lambda p: '{:.0f}%'.format(round(p)) if p > 0 else '', textprops=text_props)\n",
    "    plt.title(f\"What fuels are used in {country}?\", fontdict=title_props, y=0.95)\n",
    "    plt.legend(labels=labels_1, prop=legend_props, loc = 8, ncol=3, edgecolor='white', framealpha=0)\n",
    "    centre_circle = plt.Circle((0,0),0.70,fc=face_color)\n",
    "    ax = fig.gca()\n",
    "    fig.patch.set_facecolor(face_color)\n",
    "    ax.add_artist(centre_circle)\n",
    "    plt.tight_layout()\n",
    "    plt.savefig(f\"Exported/{country}_{'figure_1'}\")\n",
    "    plt.show()\n"
   ]
  },
  {
   "cell_type": "code",
   "execution_count": null,
   "metadata": {},
   "outputs": [],
   "source": [
    "def plot_fig_2(country):\n",
    "    fig = plt.figure(figsize = pie_size)\n",
    "    plt.pie(df_2.loc[country], colors=colors_2, startangle=90, autopct=lambda p: '{:.0f}%'.format(round(p)) if p > 0 else '', textprops=text_props)\n",
    "    plt.title(f\"How clean is the heat in {country}?\", fontdict=title_props, y=0.95)\n",
    "    plt.legend(labels=labels_2, prop=legend_props, loc = 8, ncol=3, framealpha=0)\n",
    "    centre_circle = plt.Circle((0,0),0.70,fc=face_color)\n",
    "    ax = fig.gca()\n",
    "    fig.patch.set_facecolor(face_color)\n",
    "    ax.add_artist(centre_circle)\n",
    "    plt.tight_layout()\n",
    "    plt.savefig(f\"Exported/{country}_{'figure_2'}\")\n",
    "    plt.show()"
   ]
  },
  {
   "cell_type": "code",
   "execution_count": null,
   "metadata": {},
   "outputs": [],
   "source": [
    "plot_fig_1(\"Canada\")\n",
    "plot_fig_2(\"Denmark\")"
   ]
  },
  {
   "cell_type": "code",
   "execution_count": null,
   "metadata": {},
   "outputs": [],
   "source": [
    "def plot_all_figs():\n",
    "    for country in df_1.index:\n",
    "        plot_fig_1(country)\n",
    "\n",
    "    for country in df_2.index:\n",
    "        plot_fig_2(country)"
   ]
  },
  {
   "cell_type": "code",
   "execution_count": null,
   "metadata": {},
   "outputs": [],
   "source": [
    "\"\"\" SAVING THE FIGURES \"\"\"\n",
    "plot_all_figs()"
   ]
  },
  {
   "cell_type": "markdown",
   "metadata": {},
   "source": [
    "### Stacked bar chart"
   ]
  },
  {
   "cell_type": "code",
   "execution_count": null,
   "metadata": {},
   "outputs": [],
   "source": [
    "df_2"
   ]
  },
  {
   "cell_type": "code",
   "execution_count": null,
   "metadata": {},
   "outputs": [],
   "source": [
    "\"\"\" do the same for df_1\"\"\"\n",
    "\n",
    "df_2_share = df_2.copy()\n",
    "for col in df_2_share:\n",
    "    df_2_share[col] /= df_2.sum(axis=1)\n",
    "df_2_share"
   ]
  },
  {
   "cell_type": "code",
   "execution_count": null,
   "metadata": {},
   "outputs": [],
   "source": [
    "df_1_share = df_1.copy()\n",
    "for col in df_1_share:\n",
    "    df_1_share[col] /= df_1.sum(axis=1)\n",
    "\n",
    "df_2_share = df_2.copy()\n",
    "for col in df_2_share:\n",
    "    df_2_share[col] /= df_2.sum(axis=1)"
   ]
  },
  {
   "cell_type": "code",
   "execution_count": null,
   "metadata": {},
   "outputs": [],
   "source": [
    "def plot_compare_1():\n",
    "    fig = plt.figure()\n",
    "    df_1_share.plot(kind='bar', stacked=True, figsize=(bar_size), color=colors_1)\n",
    "    fig.patch.set_facecolor(face_color)\n",
    "    plt.legend(bbox_to_anchor=(1.15, 0.4),  labels=labels_1, prop=legend_props, loc = 9, ncol=1, framealpha=0)\n",
    "    plt.grid(alpha=0.4, axis='y')\n",
    "    plt.title(f\"Comparing countries for heating fuel share\", fontdict=title_props, y =1.05)\n",
    "    plt.xlabel(xlabel='', fontdict=text_props)\n",
    "    plt.xticks(rotation=45, fontfamily=font, fontsize=20)\n",
    "    plt.ylabel('Share', fontfamily=font, fontsize=20)\n",
    "    plt.yticks(fontfamily=font, fontsize=20)\n",
    "    plt.margins(y=0)\n",
    "    plt.tight_layout()\n",
    "    plt.savefig(f\"Exported/comparing_countries_fig_1\")\n",
    "    plt.show()"
   ]
  },
  {
   "cell_type": "code",
   "execution_count": null,
   "metadata": {},
   "outputs": [],
   "source": [
    "def plot_compare_2():\n",
    "    fig = plt.figure()\n",
    "    df_2_share.plot(kind='bar', stacked=True, figsize=(bar_size), color=colors_2)\n",
    "    fig.patch.set_facecolor(face_color)\n",
    "    plt.legend(bbox_to_anchor=(1.15, 0.4), labels=labels_2, prop=legend_props, loc = 9, ncol=1, framealpha=0)\n",
    "    plt.grid(alpha=0.4, axis='y')\n",
    "    plt.title(f\"Comparing countries for clean heat share\", fontdict=title_props, y =1.05)\n",
    "    plt.xlabel(xlabel='', fontdict=text_props)\n",
    "    plt.xticks(rotation=45, fontfamily=font, fontsize=20)\n",
    "    plt.ylabel('Share', fontfamily=font, fontsize=20)\n",
    "    plt.yticks(fontfamily=font, fontsize=20)\n",
    "    plt.margins(y=0)\n",
    "    plt.tight_layout()\n",
    "    plt.savefig(f\"Exported/comparing_countries_fig_2\")\n",
    "    plt.show()"
   ]
  },
  {
   "cell_type": "code",
   "execution_count": null,
   "metadata": {},
   "outputs": [],
   "source": [
    "plot_compare_1()\n",
    "plot_compare_2()"
   ]
  },
  {
   "cell_type": "code",
   "execution_count": null,
   "metadata": {},
   "outputs": [],
   "source": [
    "ax = plt.gca()\n",
    "handles, labels = ax.get_legend_handles_labels()"
   ]
  }
 ],
 "metadata": {
  "interpreter": {
   "hash": "6a716c2c4151a73aca89c61fc1bdaff353361ae348658ebcc2cbeba07af739e8"
  },
  "kernelspec": {
   "display_name": "Python 3.10.0 64-bit",
   "language": "python",
   "name": "python3"
  },
  "language_info": {
   "codemirror_mode": {
    "name": "ipython",
    "version": 3
   },
   "file_extension": ".py",
   "mimetype": "text/x-python",
   "name": "python",
   "nbconvert_exporter": "python",
   "pygments_lexer": "ipython3",
   "version": "3.9.8"
  },
  "orig_nbformat": 4
 },
 "nbformat": 4,
 "nbformat_minor": 2
}
