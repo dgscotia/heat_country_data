{
 "cells": [
  {
   "cell_type": "code",
   "execution_count": 1,
   "metadata": {},
   "outputs": [],
   "source": [
    "import pandas as pd\n",
    "import seaborn as sns\n",
    "import matplotlib.pyplot as plt\n",
    "import matplotlib\n",
    "import numpy as np"
   ]
  },
  {
   "cell_type": "code",
   "execution_count": 2,
   "metadata": {},
   "outputs": [
    {
     "data": {
      "text/html": [
       "<div>\n",
       "<style scoped>\n",
       "    .dataframe tbody tr th:only-of-type {\n",
       "        vertical-align: middle;\n",
       "    }\n",
       "\n",
       "    .dataframe tbody tr th {\n",
       "        vertical-align: top;\n",
       "    }\n",
       "\n",
       "    .dataframe thead th {\n",
       "        text-align: right;\n",
       "    }\n",
       "</style>\n",
       "<table border=\"1\" class=\"dataframe\">\n",
       "  <thead>\n",
       "    <tr style=\"text-align: right;\">\n",
       "      <th></th>\n",
       "      <th>Fossil gas</th>\n",
       "      <th>Oil products</th>\n",
       "      <th>Other fossil fuels</th>\n",
       "      <th>Non-renewable electricity</th>\n",
       "      <th>Renewable electricity</th>\n",
       "      <th>Direct renewables</th>\n",
       "      <th>Renewable district heat</th>\n",
       "      <th>Ambient heat</th>\n",
       "    </tr>\n",
       "    <tr>\n",
       "      <th>Country</th>\n",
       "      <th></th>\n",
       "      <th></th>\n",
       "      <th></th>\n",
       "      <th></th>\n",
       "      <th></th>\n",
       "      <th></th>\n",
       "      <th></th>\n",
       "      <th></th>\n",
       "    </tr>\n",
       "  </thead>\n",
       "  <tbody>\n",
       "    <tr>\n",
       "      <th>Denmark</th>\n",
       "      <td>26</td>\n",
       "      <td>7</td>\n",
       "      <td>30</td>\n",
       "      <td>1</td>\n",
       "      <td>5</td>\n",
       "      <td>43</td>\n",
       "      <td>40.0</td>\n",
       "      <td>10</td>\n",
       "    </tr>\n",
       "    <tr>\n",
       "      <th>France</th>\n",
       "      <td>757</td>\n",
       "      <td>225</td>\n",
       "      <td>44</td>\n",
       "      <td>240</td>\n",
       "      <td>62</td>\n",
       "      <td>277</td>\n",
       "      <td>43.0</td>\n",
       "      <td>115</td>\n",
       "    </tr>\n",
       "    <tr>\n",
       "      <th>Germany</th>\n",
       "      <td>1263</td>\n",
       "      <td>624</td>\n",
       "      <td>184</td>\n",
       "      <td>162</td>\n",
       "      <td>134</td>\n",
       "      <td>411</td>\n",
       "      <td>37.0</td>\n",
       "      <td>57</td>\n",
       "    </tr>\n",
       "    <tr>\n",
       "      <th>Canada</th>\n",
       "      <td>1326</td>\n",
       "      <td>82</td>\n",
       "      <td>53</td>\n",
       "      <td>128</td>\n",
       "      <td>252</td>\n",
       "      <td>170</td>\n",
       "      <td>0.0</td>\n",
       "      <td>0</td>\n",
       "    </tr>\n",
       "    <tr>\n",
       "      <th>Scotland</th>\n",
       "      <td>104</td>\n",
       "      <td>12</td>\n",
       "      <td>3</td>\n",
       "      <td>0</td>\n",
       "      <td>14</td>\n",
       "      <td>6</td>\n",
       "      <td>0.0</td>\n",
       "      <td>0</td>\n",
       "    </tr>\n",
       "    <tr>\n",
       "      <th>United States</th>\n",
       "      <td>5112</td>\n",
       "      <td>1038</td>\n",
       "      <td>0</td>\n",
       "      <td>1067</td>\n",
       "      <td>259</td>\n",
       "      <td>826</td>\n",
       "      <td>0.0</td>\n",
       "      <td>0</td>\n",
       "    </tr>\n",
       "    <tr>\n",
       "      <th>United Kingdom</th>\n",
       "      <td>1361</td>\n",
       "      <td>199</td>\n",
       "      <td>41</td>\n",
       "      <td>143</td>\n",
       "      <td>108</td>\n",
       "      <td>96</td>\n",
       "      <td>2.9</td>\n",
       "      <td>0</td>\n",
       "    </tr>\n",
       "    <tr>\n",
       "      <th>Chile</th>\n",
       "      <td>77</td>\n",
       "      <td>1</td>\n",
       "      <td>0</td>\n",
       "      <td>7</td>\n",
       "      <td>6</td>\n",
       "      <td>56</td>\n",
       "      <td>0.0</td>\n",
       "      <td>0</td>\n",
       "    </tr>\n",
       "  </tbody>\n",
       "</table>\n",
       "</div>"
      ],
      "text/plain": [
       "                Fossil gas  Oil products  Other fossil fuels  \\\n",
       "Country                                                        \n",
       "Denmark                 26             7                  30   \n",
       "France                 757           225                  44   \n",
       "Germany               1263           624                 184   \n",
       "Canada                1326            82                  53   \n",
       "Scotland               104            12                   3   \n",
       "United States         5112          1038                   0   \n",
       "United Kingdom        1361           199                  41   \n",
       "Chile                   77             1                   0   \n",
       "\n",
       "                Non-renewable electricity  Renewable electricity  \\\n",
       "Country                                                            \n",
       "Denmark                                 1                      5   \n",
       "France                                240                     62   \n",
       "Germany                               162                    134   \n",
       "Canada                                128                    252   \n",
       "Scotland                                0                     14   \n",
       "United States                        1067                    259   \n",
       "United Kingdom                        143                    108   \n",
       "Chile                                   7                      6   \n",
       "\n",
       "                Direct renewables  Renewable district heat  Ambient heat  \n",
       "Country                                                                   \n",
       "Denmark                        43                     40.0            10  \n",
       "France                        277                     43.0           115  \n",
       "Germany                       411                     37.0            57  \n",
       "Canada                        170                      0.0             0  \n",
       "Scotland                        6                      0.0             0  \n",
       "United States                 826                      0.0             0  \n",
       "United Kingdom                 96                      2.9             0  \n",
       "Chile                          56                      0.0             0  "
      ]
     },
     "execution_count": 2,
     "metadata": {},
     "output_type": "execute_result"
    }
   ],
   "source": [
    "df_1 = pd.read_csv(\"..\\..\\!Processed\\heat_data_fig_1_python.csv\").set_index(\"Country\")\n",
    "df_2 = pd.read_csv(\"..\\..\\!Processed\\heat_data_fig_2_python.csv\").set_index(\"Country\")\n",
    "df_co2 = pd.read_csv(\"..\\..\\!Emissions\\emissions_python.csv\").set_index(\"Country\").dropna(axis=0, how='all')\n",
    "df_co2\n",
    "df_2"
   ]
  },
  {
   "cell_type": "code",
   "execution_count": null,
   "metadata": {},
   "outputs": [],
   "source": [
    "\"\"\" \n",
    "summary = {\n",
    "    year:{\n",
    "'Fossil gas': XXX,\n",
    "'Oil products': XXX,\n",
    "'Other fossil fuels': XXX,\n",
    "'Heat pumps':XXX,\n",
    "'Direct renewables':XXX,\n",
    "'District heat':XXX,\n",
    "'Electricity':XXX,\n",
    "'Non-renewable electricity':XXX,\n",
    "'Renewable electricity':XXX,\n",
    "'Renewable district heat':XXX,\n",
    "'Ambient heat':XXX\n",
    "}\n",
    "}\n",
    "\"\"\""
   ]
  },
  {
   "cell_type": "code",
   "execution_count": 3,
   "metadata": {},
   "outputs": [],
   "source": [
    "font= 'Microsoft Yi Baiti'\n",
    "\n",
    "text_props = {'fontsize': 25, 'fontname':font}\n",
    "title_props =  {'fontsize': 35, 'fontname':font, 'verticalalignment':'baseline'} \n",
    "legend_pie_props = {'size':22, 'family':font}\n",
    "legend_bar_props = {'size':25, 'family':font}\n",
    "matplotlib.rcParams['font.family'] = font\n",
    "matplotlib.rcParams[\"figure.facecolor\"] = \"w\"\n",
    "alpha_set = 0.8\n",
    "face_color = \"white\"\n",
    "pie_size = (14,14)\n",
    "bar_size = (24,12)\n",
    "bar_font = 30\n",
    "text_offset = 7.5\n",
    "\n",
    "RE_explode = [0,0,0,0,0.1,0.1,0.1,0.1]\n",
    "\n",
    "FILEPATH = \"Exported_new\""
   ]
  },
  {
   "cell_type": "code",
   "execution_count": 4,
   "metadata": {},
   "outputs": [],
   "source": [
    "gas = '#8c564b'\n",
    "oil = '#7f7f7f'\n",
    "other_fossils = '#c7c7c7'\n",
    "heat_pumps = '#c5b0d5'\n",
    "direct_re = '#2ca02c'\n",
    "district_heat = '#d62728'\n",
    "electricity = '#1f77b4'\n",
    "non_re_elec = '#ffbb78'\n",
    "re_elec = '#98df8a'\n",
    "re_DHC = '#d62728'\n",
    "ambient = '#17becf'\n",
    "\n",
    "\n",
    "colors_1 = [gas, oil, other_fossils, heat_pumps, direct_re, district_heat, electricity]\n",
    "colors_2 = [gas, oil, other_fossils, non_re_elec, re_elec, direct_re, re_DHC, ambient]\n",
    "colors_e = ['#ff7f0e', '#7f7f7f', '#9467bd']\n",
    "\n",
    "# old HEX for re_DHC --> '#9edae5'"
   ]
  },
  {
   "cell_type": "code",
   "execution_count": 5,
   "metadata": {},
   "outputs": [
    {
     "name": "stdout",
     "output_type": "stream",
     "text": [
      "['#1f77b4', '#aec7e8', '#ff7f0e', '#ffbb78', '#2ca02c', '#98df8a', '#d62728', '#ff9896', '#9467bd', '#c5b0d5', '#8c564b', '#c49c94', '#e377c2', '#f7b6d2', '#7f7f7f', '#c7c7c7', '#bcbd22', '#dbdb8d', '#17becf', '#9edae5']\n"
     ]
    },
    {
     "data": {
      "text/html": [
       "<svg  width=\"1100\" height=\"55\"><rect x=\"0\" y=\"0\" width=\"55\" height=\"55\" style=\"fill:#1f77b4;stroke-width:2;stroke:rgb(255,255,255)\"/><rect x=\"55\" y=\"0\" width=\"55\" height=\"55\" style=\"fill:#aec7e8;stroke-width:2;stroke:rgb(255,255,255)\"/><rect x=\"110\" y=\"0\" width=\"55\" height=\"55\" style=\"fill:#ff7f0e;stroke-width:2;stroke:rgb(255,255,255)\"/><rect x=\"165\" y=\"0\" width=\"55\" height=\"55\" style=\"fill:#ffbb78;stroke-width:2;stroke:rgb(255,255,255)\"/><rect x=\"220\" y=\"0\" width=\"55\" height=\"55\" style=\"fill:#2ca02c;stroke-width:2;stroke:rgb(255,255,255)\"/><rect x=\"275\" y=\"0\" width=\"55\" height=\"55\" style=\"fill:#98df8a;stroke-width:2;stroke:rgb(255,255,255)\"/><rect x=\"330\" y=\"0\" width=\"55\" height=\"55\" style=\"fill:#d62728;stroke-width:2;stroke:rgb(255,255,255)\"/><rect x=\"385\" y=\"0\" width=\"55\" height=\"55\" style=\"fill:#ff9896;stroke-width:2;stroke:rgb(255,255,255)\"/><rect x=\"440\" y=\"0\" width=\"55\" height=\"55\" style=\"fill:#9467bd;stroke-width:2;stroke:rgb(255,255,255)\"/><rect x=\"495\" y=\"0\" width=\"55\" height=\"55\" style=\"fill:#c5b0d5;stroke-width:2;stroke:rgb(255,255,255)\"/><rect x=\"550\" y=\"0\" width=\"55\" height=\"55\" style=\"fill:#8c564b;stroke-width:2;stroke:rgb(255,255,255)\"/><rect x=\"605\" y=\"0\" width=\"55\" height=\"55\" style=\"fill:#c49c94;stroke-width:2;stroke:rgb(255,255,255)\"/><rect x=\"660\" y=\"0\" width=\"55\" height=\"55\" style=\"fill:#e377c2;stroke-width:2;stroke:rgb(255,255,255)\"/><rect x=\"715\" y=\"0\" width=\"55\" height=\"55\" style=\"fill:#f7b6d2;stroke-width:2;stroke:rgb(255,255,255)\"/><rect x=\"770\" y=\"0\" width=\"55\" height=\"55\" style=\"fill:#7f7f7f;stroke-width:2;stroke:rgb(255,255,255)\"/><rect x=\"825\" y=\"0\" width=\"55\" height=\"55\" style=\"fill:#c7c7c7;stroke-width:2;stroke:rgb(255,255,255)\"/><rect x=\"880\" y=\"0\" width=\"55\" height=\"55\" style=\"fill:#bcbd22;stroke-width:2;stroke:rgb(255,255,255)\"/><rect x=\"935\" y=\"0\" width=\"55\" height=\"55\" style=\"fill:#dbdb8d;stroke-width:2;stroke:rgb(255,255,255)\"/><rect x=\"990\" y=\"0\" width=\"55\" height=\"55\" style=\"fill:#17becf;stroke-width:2;stroke:rgb(255,255,255)\"/><rect x=\"1045\" y=\"0\" width=\"55\" height=\"55\" style=\"fill:#9edae5;stroke-width:2;stroke:rgb(255,255,255)\"/></svg>"
      ],
      "text/plain": [
       "['#1f77b4',\n",
       " '#aec7e8',\n",
       " '#ff7f0e',\n",
       " '#ffbb78',\n",
       " '#2ca02c',\n",
       " '#98df8a',\n",
       " '#d62728',\n",
       " '#ff9896',\n",
       " '#9467bd',\n",
       " '#c5b0d5',\n",
       " '#8c564b',\n",
       " '#c49c94',\n",
       " '#e377c2',\n",
       " '#f7b6d2',\n",
       " '#7f7f7f',\n",
       " '#c7c7c7',\n",
       " '#bcbd22',\n",
       " '#dbdb8d',\n",
       " '#17becf',\n",
       " '#9edae5']"
      ]
     },
     "execution_count": 5,
     "metadata": {},
     "output_type": "execute_result"
    }
   ],
   "source": [
    "\n",
    "colors = sns.color_palette(\"tab20\")\n",
    "palette = sns.color_palette(\"tab20\", 20).as_hex()\n",
    "print(palette)\n",
    "palette"
   ]
  },
  {
   "cell_type": "code",
   "execution_count": 6,
   "metadata": {},
   "outputs": [
    {
     "name": "stdout",
     "output_type": "stream",
     "text": [
      "Hex: #1f77b4\n",
      "Hex: #aec7e8\n",
      "Hex: #ff7f0e\n",
      "Hex: #ffbb78\n",
      "Hex: #2ca02c\n",
      "Hex: #98df8a\n",
      "Hex: #d62728\n",
      "Hex: #ff9896\n",
      "Hex: #9467bd\n",
      "Hex: #c5b0d5\n",
      "Hex: #8c564b\n",
      "Hex: #c49c94\n",
      "Hex: #e377c2\n",
      "Hex: #f7b6d2\n",
      "Hex: #7f7f7f\n",
      "Hex: #c7c7c7\n",
      "Hex: #bcbd22\n",
      "Hex: #dbdb8d\n",
      "Hex: #17becf\n",
      "Hex: #9edae5\n"
     ]
    }
   ],
   "source": [
    "cmap = matplotlib.cm.get_cmap('tab20')\n",
    "for i in range(cmap.N):\n",
    "    rgba = cmap(i)\n",
    "    print(f\"Hex: {matplotlib.colors.rgb2hex(rgba)}\")"
   ]
  },
  {
   "cell_type": "markdown",
   "metadata": {},
   "source": [
    "### COUNTRY PIE CHARTS"
   ]
  },
  {
   "cell_type": "code",
   "execution_count": 7,
   "metadata": {},
   "outputs": [],
   "source": [
    "labels_1 = df_1.columns\n",
    "labels_2 = df_2.columns\n",
    "plot_1 = [df_1, colors_1, labels_1, \"What is used to heat in \", \"fig_1\"]\n",
    "plot_2 = [df_2, colors_2, labels_2, \"How clean is the heat in \", \"fig_2\"]"
   ]
  },
  {
   "cell_type": "code",
   "execution_count": 8,
   "metadata": {},
   "outputs": [
    {
     "data": {
      "text/html": [
       "<div>\n",
       "<style scoped>\n",
       "    .dataframe tbody tr th:only-of-type {\n",
       "        vertical-align: middle;\n",
       "    }\n",
       "\n",
       "    .dataframe tbody tr th {\n",
       "        vertical-align: top;\n",
       "    }\n",
       "\n",
       "    .dataframe thead th {\n",
       "        text-align: right;\n",
       "    }\n",
       "</style>\n",
       "<table border=\"1\" class=\"dataframe\">\n",
       "  <thead>\n",
       "    <tr style=\"text-align: right;\">\n",
       "      <th></th>\n",
       "      <th>Heat in Buildings</th>\n",
       "      <th>Other</th>\n",
       "      <th>Note</th>\n",
       "    </tr>\n",
       "    <tr>\n",
       "      <th>Country</th>\n",
       "      <th></th>\n",
       "      <th></th>\n",
       "      <th></th>\n",
       "    </tr>\n",
       "  </thead>\n",
       "  <tbody>\n",
       "    <tr>\n",
       "      <th>Canada</th>\n",
       "      <td>0.2080</td>\n",
       "      <td>0.7920</td>\n",
       "      <td>NaN</td>\n",
       "    </tr>\n",
       "    <tr>\n",
       "      <th>Chile</th>\n",
       "      <td>0.0587</td>\n",
       "      <td>0.9413</td>\n",
       "      <td>This does not account for emissions to produce...</td>\n",
       "    </tr>\n",
       "    <tr>\n",
       "      <th>Denmark</th>\n",
       "      <td>0.0500</td>\n",
       "      <td>0.9500</td>\n",
       "      <td>This does not account for emissions to produce...</td>\n",
       "    </tr>\n",
       "    <tr>\n",
       "      <th>France</th>\n",
       "      <td>0.1550</td>\n",
       "      <td>0.8450</td>\n",
       "      <td>This does not account for emissions to produce...</td>\n",
       "    </tr>\n",
       "    <tr>\n",
       "      <th>Germany</th>\n",
       "      <td>0.1540</td>\n",
       "      <td>0.8460</td>\n",
       "      <td>This does not account for emissions to produce...</td>\n",
       "    </tr>\n",
       "    <tr>\n",
       "      <th>Scotland</th>\n",
       "      <td>0.1770</td>\n",
       "      <td>0.8230</td>\n",
       "      <td>NaN</td>\n",
       "    </tr>\n",
       "    <tr>\n",
       "      <th>United Kingdom</th>\n",
       "      <td>0.2300</td>\n",
       "      <td>0.7700</td>\n",
       "      <td>NaN</td>\n",
       "    </tr>\n",
       "    <tr>\n",
       "      <th>United States</th>\n",
       "      <td>0.2080</td>\n",
       "      <td>0.7930</td>\n",
       "      <td>NaN</td>\n",
       "    </tr>\n",
       "  </tbody>\n",
       "</table>\n",
       "</div>"
      ],
      "text/plain": [
       "                Heat in Buildings   Other  \\\n",
       "Country                                     \n",
       "Canada                     0.2080  0.7920   \n",
       "Chile                      0.0587  0.9413   \n",
       "Denmark                    0.0500  0.9500   \n",
       "France                     0.1550  0.8450   \n",
       "Germany                    0.1540  0.8460   \n",
       "Scotland                   0.1770  0.8230   \n",
       "United Kingdom             0.2300  0.7700   \n",
       "United States              0.2080  0.7930   \n",
       "\n",
       "                                                             Note  \n",
       "Country                                                            \n",
       "Canada                                                        NaN  \n",
       "Chile           This does not account for emissions to produce...  \n",
       "Denmark         This does not account for emissions to produce...  \n",
       "France          This does not account for emissions to produce...  \n",
       "Germany         This does not account for emissions to produce...  \n",
       "Scotland                                                      NaN  \n",
       "United Kingdom                                                NaN  \n",
       "United States                                                 NaN  "
      ]
     },
     "execution_count": 8,
     "metadata": {},
     "output_type": "execute_result"
    }
   ],
   "source": [
    "df_co2"
   ]
  },
  {
   "cell_type": "code",
   "execution_count": 9,
   "metadata": {},
   "outputs": [],
   "source": [
    "def plot_country(country, df, colors, labels, title, name):\n",
    "    fig = plt.figure(figsize = pie_size)\n",
    "    plt.pie(df.loc[country], colors=colors, startangle=90, autopct=lambda p: '{:.0f}%'.format(round(p)) if p > 1 else  '', textprops=text_props, wedgeprops={'alpha':alpha_set, \"edgecolor\":\"black\"})\n",
    "    plt.title(title+f\"{country}?\", fontdict=title_props, y=0.95)\n",
    "    plt.legend(labels=labels, prop=legend_pie_props, loc = 8, ncol=3, edgecolor='white', framealpha=0)\n",
    "\n",
    "    centre_circle = plt.Circle((0,0),0.70,fc=face_color,edgecolor='black')\n",
    "    ax = fig.gca()\n",
    "    ax.add_artist(centre_circle)\n",
    "\n",
    "    plt.tight_layout()\n",
    "    plt.savefig(f\"{FILEPATH}/{country}_{name}\")\n",
    "    plt.show()"
   ]
  },
  {
   "cell_type": "code",
   "execution_count": 10,
   "metadata": {},
   "outputs": [
    {
     "data": {
      "text/plain": [
       "' TESTING THE PLOTS '"
      ]
     },
     "execution_count": 10,
     "metadata": {},
     "output_type": "execute_result"
    }
   ],
   "source": [
    "\"\"\" TESTING THE PLOTS \"\"\"\n",
    "\n",
    "#plot_country(\"France\", *plot_1)\n",
    "#plot_country(\"France\", *plot_2)"
   ]
  },
  {
   "cell_type": "code",
   "execution_count": 11,
   "metadata": {},
   "outputs": [],
   "source": [
    "def plot_all_figs():\n",
    "    for country in df_1.index:\n",
    "        plot_country(country, *plot_1)\n",
    "\n",
    "    for country in df_2.index:\n",
    "        plot_country(country, *plot_2)"
   ]
  },
  {
   "cell_type": "code",
   "execution_count": null,
   "metadata": {},
   "outputs": [],
   "source": [
    "\"\"\" SAVING THE FIGURES \"\"\"\n",
    "# plot_country('Canada', *plot_1)\n",
    "\n",
    "plot_all_figs()"
   ]
  },
  {
   "cell_type": "markdown",
   "metadata": {},
   "source": [
    "### EMISSIONS"
   ]
  },
  {
   "cell_type": "code",
   "execution_count": 12,
   "metadata": {},
   "outputs": [
    {
     "data": {
      "text/plain": [
       "Index(['Heat in Buildings', 'Other', 'Note'], dtype='object')"
      ]
     },
     "execution_count": 12,
     "metadata": {},
     "output_type": "execute_result"
    }
   ],
   "source": [
    "labels = df_co2.columns[:2][::-1]\n",
    "labels_test = df_co2.columns\n",
    "labels_test"
   ]
  },
  {
   "cell_type": "code",
   "execution_count": 13,
   "metadata": {},
   "outputs": [],
   "source": [
    "def check_note(country):\n",
    "    note_text = df_co2.loc[country][\"Note\"]\n",
    "    if not pd.isna(note_text):\n",
    "        plt.text(0.03, 0, f'Note: {note_text}', fontsize=15, fontfamily=font, color='black', wrap=True, rotation=90)\n",
    "\n",
    "def plot_emissions(country):\n",
    "    row = df_co2.loc[country]\n",
    "    pd.DataFrame(row[0:2]).T.plot(kind=\"bar\", stacked=True, figsize=(10,10), color=colors_e, width=0.05, legend=False, alpha=0.7, edgecolor='black')\n",
    "    plt.axis('off')\n",
    "    plt.legend(handles = reversed(plt.legend().legendHandles), labels = reversed(labels_test[0:2]), bbox_to_anchor=(0.73, 0.95), prop=legend_bar_props, loc = 9, ncol=1, framealpha=0)\n",
    "    plt.title(f\"Emissions in {country}\", fontdict=title_props, x=0.7, y=1)\n",
    "    share = int(round(row[\"Heat in Buildings\"]*100,0))\n",
    "    plt.text(0.03, share/100/2, f'{share}%', fontsize=35, fontfamily=font, color='black')\n",
    "    #check_note(country)\n",
    "    plt.tight_layout()\n",
    "    plt.savefig(f\"{FILEPATH}/{country}_emissions\")\n",
    "    plt.show()"
   ]
  },
  {
   "cell_type": "code",
   "execution_count": null,
   "metadata": {},
   "outputs": [],
   "source": [
    "#plot_emissions('Denmark')\n",
    "\n",
    "for country in df_co2.index:\n",
    "   plot_emissions(country)"
   ]
  },
  {
   "cell_type": "markdown",
   "metadata": {},
   "source": [
    "### STACKED BAR CHART"
   ]
  },
  {
   "cell_type": "code",
   "execution_count": null,
   "metadata": {},
   "outputs": [],
   "source": [
    "def normalize(df):\n",
    "    tot = df.sum(axis=1)\n",
    "    for col in df:\n",
    "        df[col] /= tot\n",
    "    return df\n",
    "\n",
    "df_1_share = normalize(df_1)\n",
    "df_2_share = normalize(df_2)\n",
    "\n",
    "df_2_share"
   ]
  },
  {
   "cell_type": "code",
   "execution_count": null,
   "metadata": {},
   "outputs": [],
   "source": [
    "order_1 = [\"Scotland\", \"United Kingdom\", \"Canada\", \"United States\", \"Chile\", \"Germany\", \"France\", \"Denmark\"] # most gas\n",
    "order_2 = [\"Denmark\", \"Chile\", \"France\", \"Germany\", \"Canada\", \"Scotland\", \"United States\", \"United Kingdom\"] # highest RE share\n",
    "\n",
    "df_1_share = df_1_share.reindex(order_1)\n",
    "df_1_co2 = df_co2.reindex(order_1)\n",
    "labels_1 = df_1_share.columns\n",
    "\n",
    "df_2_share = df_2_share.reindex(order_2)\n",
    "df_2_co2 = df_co2.reindex(order_2)\n",
    "labels_2 = df_2_share.columns"
   ]
  },
  {
   "cell_type": "code",
   "execution_count": null,
   "metadata": {},
   "outputs": [],
   "source": [
    "share_pct = round((df_2_share[\"Renewable electricity\"] + df_2_share[\"Direct renewables\"] + df_2_share[\"Renewable district heat\"] + df_2_share[\"Ambient heat\"])*100,0).apply(lambda x: int(x)).to_list()\n",
    "share_dec = (df_2_share[\"Renewable electricity\"] + df_2_share[\"Direct renewables\"] + df_2_share[\"Renewable district heat\"] + df_2_share[\"Ambient heat\"]).to_list()\n",
    "share_pct\n"
   ]
  },
  {
   "cell_type": "code",
   "execution_count": null,
   "metadata": {},
   "outputs": [],
   "source": [
    "emissions_1_pct = round(df_1_co2[\"Heat in Buildings\"]*100,0).apply(lambda x: int(x)).to_list()\n",
    "emissions_2_pct = round(df_2_co2[\"Heat in Buildings\"]*100,0).apply(lambda x: int(x)).to_list()"
   ]
  },
  {
   "cell_type": "code",
   "execution_count": null,
   "metadata": {},
   "outputs": [],
   "source": [
    "plot_share_1 = [df_1_share, emissions_1_pct, colors_1, labels_1, \"What fuels are used to heat?\", \"fig_1\"]\n",
    "plot_share_2 = [df_2_share, emissions_2_pct, colors_2, labels_2, \"How clean is the heat?\", \"fig_2\"]"
   ]
  },
  {
   "cell_type": "code",
   "execution_count": null,
   "metadata": {},
   "outputs": [],
   "source": [
    "def plot_bars(df, emissions_pct, colors, labels, title, name):\n",
    "    df.plot(kind='bar', stacked=True, figsize=(bar_size), color=colors, width=0.3, zorder=0, alpha=alpha_set, edgecolor='black')\n",
    "    plt.text(text_offset, -0.15, 'Building heat share of emissions', fontsize=25, fontfamily=font, color='#8c564b')\n",
    "    start = -0.15\n",
    "    for e in emissions_pct:\n",
    "        plt.text(start, -0.15, f'{e}%', fontsize=25, fontfamily=font, color='#8c564b')\n",
    "        start += 1.01\n",
    "    if name == 'fig_2':\n",
    "        plt.text(text_offset, 1.02, 'Share of renewables', fontsize=25, fontfamily=font, color='#2ca02c')\n",
    "        start = -0.15\n",
    "        for share in share_pct:\n",
    "            plt.text(start, 1.02, f'{share}%', fontsize=25, fontfamily=font, color='#2ca02c')\n",
    "            start += 1.01\n",
    "        \n",
    "        \n",
    "        \n",
    "        dots = plt.scatter(x=df_2_share.index.to_list(), y=share_dec, zorder=10, s = 250, color='#2ca02c', edgecolors='black')\n",
    "\n",
    "\n",
    "\n",
    "    plt.legend(handles = reversed(plt.legend().legendHandles), labels = reversed(labels), bbox_to_anchor=(1.15, 0.5), prop=legend_bar_props, loc = 9, ncol=1, framealpha=0)\n",
    "    plt.grid(alpha=0.4, axis='y', zorder=5)\n",
    "    plt.title(title, fontdict=title_props, y =1.08)\n",
    "    plt.xlabel(xlabel='', fontdict=text_props, labelpad=20)\n",
    "    plt.xticks(rotation=20, fontfamily=font, fontsize=bar_font-2)\n",
    "    plt.ylabel('Share', fontfamily=font, fontsize=bar_font)\n",
    "    plt.yticks(fontfamily=font, fontsize=bar_font)\n",
    "    plt.margins(y=0)\n",
    "    plt.tight_layout()\n",
    "    plt.savefig(f\"{FILEPATH}/all_countries_{name}\")\n",
    "    plt.show()"
   ]
  },
  {
   "cell_type": "code",
   "execution_count": null,
   "metadata": {},
   "outputs": [],
   "source": [
    "plot_bars(*plot_share_1)"
   ]
  },
  {
   "cell_type": "code",
   "execution_count": null,
   "metadata": {},
   "outputs": [],
   "source": [
    "plot_bars(*plot_share_2)"
   ]
  },
  {
   "cell_type": "code",
   "execution_count": null,
   "metadata": {},
   "outputs": [],
   "source": [
    "def plot_emissions(country, df, colors, labels, title, name):\n",
    "    fig = plt.figure(figsize = pie_size)\n",
    "    plt.pie(df.loc[country], colors=colors, startangle=90, autopct=lambda p: '{:.0f}%'.format(round(p)) if p > 0 else '', textprops=text_props, \n",
    "    wedgeprops={'alpha':alpha_set, \"edgecolor\":\"black\", 'antialiased':True})\n",
    "    plt.title(title+f\"{country}?\", fontdict=title_props, y=0.95)\n",
    "    plt.legend(labels=labels, prop=legend_pie_props, loc = 8, ncol=3, edgecolor='white', framealpha=0)\n",
    "    centre_circle = plt.Circle((0,0),0.70,fc=face_color)\n",
    "    ax = fig.gca()\n",
    "    ax.add_artist(centre_circle)\n",
    "\n",
    "\n",
    "    \"\"\" PLOTTING THE EMISSIONS \"\"\"\n",
    "    ax = fig.subplots()\n",
    "    ax.axis('off')\n",
    "    emissions = pd.DataFrame(df_co2.loc[country]).T\n",
    "    emissions.plot(kind='bar', stacked=True, ax=ax, color=colors_e, legend=False, alpha=0.7, edgecolor='black')\n",
    "    ax.set_position([0.5, 0.1, 0, 0.1])\n",
    "    #check_note(country)\n",
    "\n",
    "    plt.tight_layout()\n",
    "    #plt.savefig(f\"Exported/{country}_{name}\")\n",
    "    plt.show()\n",
    "\n",
    "#plot_country(\"Scotland\", *plot_1)"
   ]
  },
  {
   "cell_type": "code",
   "execution_count": null,
   "metadata": {},
   "outputs": [],
   "source": []
  }
 ],
 "metadata": {
  "interpreter": {
   "hash": "6a716c2c4151a73aca89c61fc1bdaff353361ae348658ebcc2cbeba07af739e8"
  },
  "kernelspec": {
   "display_name": "Python 3.10.0 64-bit",
   "language": "python",
   "name": "python3"
  },
  "language_info": {
   "codemirror_mode": {
    "name": "ipython",
    "version": 3
   },
   "file_extension": ".py",
   "mimetype": "text/x-python",
   "name": "python",
   "nbconvert_exporter": "python",
   "pygments_lexer": "ipython3",
   "version": "3.9.8"
  },
  "orig_nbformat": 4
 },
 "nbformat": 4,
 "nbformat_minor": 2
}
